{
 "cells": [
  {
   "cell_type": "code",
   "execution_count": 1,
   "metadata": {},
   "outputs": [
    {
     "name": "stderr",
     "output_type": "stream",
     "text": [
      "C:\\Anaconda\\lib\\site-packages\\h5py\\__init__.py:36: FutureWarning: Conversion of the second argument of issubdtype from `float` to `np.floating` is deprecated. In future, it will be treated as `np.float64 == np.dtype(float).type`.\n",
      "  from ._conv import register_converters as _register_converters\n",
      "Using TensorFlow backend.\n"
     ]
    }
   ],
   "source": [
    "import numpy as np\n",
    "import matplotlib.pyplot as plt\n",
    "import pandas as pd\n",
    "from keras import Sequential\n",
    "from keras.layers import Conv2D,MaxPooling2D,Dropout,Activation,Flatten,BatchNormalization,Dense\n",
    "from keras.optimizers import Adam\n",
    "from keras.losses import categorical_crossentropy\n",
    "from keras.preprocessing.image import ImageDataGenerator\n",
    "from keras.callbacks import EarlyStopping,ReduceLROnPlateau,LearningRateScheduler\n",
    "from keras.utils import to_categorical\n",
    "from sklearn.utils import class_weight"
   ]
  },
  {
   "cell_type": "code",
   "execution_count": 30,
   "metadata": {},
   "outputs": [],
   "source": [
    "import cv2"
   ]
  },
  {
   "cell_type": "code",
   "execution_count": 2,
   "metadata": {},
   "outputs": [
    {
     "data": {
      "text/html": [
       "<div>\n",
       "<style scoped>\n",
       "    .dataframe tbody tr th:only-of-type {\n",
       "        vertical-align: middle;\n",
       "    }\n",
       "\n",
       "    .dataframe tbody tr th {\n",
       "        vertical-align: top;\n",
       "    }\n",
       "\n",
       "    .dataframe thead th {\n",
       "        text-align: right;\n",
       "    }\n",
       "</style>\n",
       "<table border=\"1\" class=\"dataframe\">\n",
       "  <thead>\n",
       "    <tr style=\"text-align: right;\">\n",
       "      <th></th>\n",
       "      <th>emotion</th>\n",
       "      <th>pixels</th>\n",
       "      <th>Usage</th>\n",
       "    </tr>\n",
       "  </thead>\n",
       "  <tbody>\n",
       "    <tr>\n",
       "      <th>0</th>\n",
       "      <td>0</td>\n",
       "      <td>70 80 82 72 58 58 60 63 54 58 60 48 89 115 121...</td>\n",
       "      <td>Training</td>\n",
       "    </tr>\n",
       "    <tr>\n",
       "      <th>1</th>\n",
       "      <td>0</td>\n",
       "      <td>151 150 147 155 148 133 111 140 170 174 182 15...</td>\n",
       "      <td>Training</td>\n",
       "    </tr>\n",
       "    <tr>\n",
       "      <th>2</th>\n",
       "      <td>2</td>\n",
       "      <td>231 212 156 164 174 138 161 173 182 200 106 38...</td>\n",
       "      <td>Training</td>\n",
       "    </tr>\n",
       "    <tr>\n",
       "      <th>3</th>\n",
       "      <td>4</td>\n",
       "      <td>24 32 36 30 32 23 19 20 30 41 21 22 32 34 21 1...</td>\n",
       "      <td>Training</td>\n",
       "    </tr>\n",
       "    <tr>\n",
       "      <th>4</th>\n",
       "      <td>6</td>\n",
       "      <td>4 0 0 0 0 0 0 0 0 0 0 0 3 15 23 28 48 50 58 84...</td>\n",
       "      <td>Training</td>\n",
       "    </tr>\n",
       "  </tbody>\n",
       "</table>\n",
       "</div>"
      ],
      "text/plain": [
       "   emotion                                             pixels     Usage\n",
       "0        0  70 80 82 72 58 58 60 63 54 58 60 48 89 115 121...  Training\n",
       "1        0  151 150 147 155 148 133 111 140 170 174 182 15...  Training\n",
       "2        2  231 212 156 164 174 138 161 173 182 200 106 38...  Training\n",
       "3        4  24 32 36 30 32 23 19 20 30 41 21 22 32 34 21 1...  Training\n",
       "4        6  4 0 0 0 0 0 0 0 0 0 0 0 3 15 23 28 48 50 58 84...  Training"
      ]
     },
     "execution_count": 2,
     "metadata": {},
     "output_type": "execute_result"
    }
   ],
   "source": [
    "df = pd.read_csv(r'fer2013\\fer2013.csv')\n",
    "emotions_list = ['angry', 'disgust', 'fear', 'happy', 'sad', 'surprise', 'neutral']\n",
    "df.head()"
   ]
  },
  {
   "cell_type": "code",
   "execution_count": 3,
   "metadata": {
    "scrolled": true
   },
   "outputs": [
    {
     "name": "stdout",
     "output_type": "stream",
     "text": [
      "Length of DataFrame: 35887\n",
      "Data Usage: {'Training': 28709, 'PublicTest': 3589, 'PrivateTest': 3589}\n",
      "Type of Pixel values: object\n",
      "Data Distribution: {3: 8989, 6: 6198, 4: 6077, 2: 5121, 0: 4953, 5: 4002, 1: 547}\n"
     ]
    },
    {
     "data": {
      "image/png": "[encoded data removed]",
      "text/plain": [
       "<Figure size 432x288 with 1 Axes>"
      ]
     },
     "metadata": {},
     "output_type": "display_data"
    }
   ],
   "source": [
    "print(\"Length of DataFrame:\",len(df))\n",
    "usage = dict(df['Usage'].value_counts())\n",
    "print(\"Data Usage:\",usage)\n",
    "print(\"Type of Pixel values:\",df['pixels'].dtype)\n",
    "data_distribution = dict(df['emotion'].value_counts())\n",
    "print(\"Data Distribution:\",data_distribution)\n",
    "plt.bar(data_distribution.keys(),data_distribution.values());"
   ]
  },
  {
   "cell_type": "code",
   "execution_count": 4,
   "metadata": {},
   "outputs": [],
   "source": [
    "X_train,X_valid,X_test,y_train,y_valid,y_test = [],[],[],[],[],[]\n",
    "for image,emotion,usage in zip(df['pixels'].values,df['emotion'].values,df['Usage'].values):\n",
    "    if usage==\"Training\":\n",
    "        X_train.append(np.array(image.split(' '),'float32').reshape(48,48,1))\n",
    "        y_train.append(to_categorical(emotion,num_classes=len(emotions_list)))\n",
    "    elif usage==\"PublicTest\":\n",
    "        X_valid.append(np.array(image.split(' '),'float32').reshape(48,48,1))\n",
    "        y_valid.append(to_categorical(emotion,num_classes=len(emotions_list)))\n",
    "    elif usage==\"PrivateTest\":\n",
    "        X_test.append(np.array(image.split(' '),'float32').reshape(48,48,1))\n",
    "        y_test.append(to_categorical(emotion,num_classes=len(emotions_list)))\n",
    "X_train = np.array(X_train)\n",
    "y_train = np.array(y_train)\n",
    "X_valid = np.array(X_valid)\n",
    "y_valid = np.array(y_valid)\n",
    "X_test = np.array(X_test)\n",
    "y_test = np.array(y_test)"
   ]
  },
  {
   "cell_type": "code",
   "execution_count": 18,
   "metadata": {},
   "outputs": [
    {
     "data": {
      "image/png": "[encoded data removed]",
      "text/plain": [
       "<Figure size 360x360 with 1 Axes>"
      ]
     },
     "metadata": {},
     "output_type": "display_data"
    }
   ],
   "source": [
    "index = np.random.randint(0,len(X_train)-1)\n",
    "plt.figure(figsize=(5,5))\n",
    "plt.imshow(X_train[index].reshape(48,48),cmap='gray')\n",
    "plt.title(emotions_list[y_train[index].argmax()])\n",
    "plt.xticks([])\n",
    "plt.yticks([]);"
   ]
  },
  {
   "cell_type": "code",
   "execution_count": 7,
   "metadata": {},
   "outputs": [],
   "source": [
    "TRAIN_ITER = ImageDataGenerator(rescale=1/255,\n",
    "                                shear_range=0.2,\n",
    "                                zoom_range=0.2,\n",
    "                                horizontal_flip=True,\n",
    "                                height_shift_range=0.1,\n",
    "                                width_shift_range=0.1,\n",
    "                                rotation_range=30).flow(X_train,y_train)\n",
    "VALID_ITER = ImageDataGenerator(rescale=1/255).flow(X_valid,y_valid)\n",
    "TEST_ITER = ImageDataGenerator(rescale=1/255).flow(X_test,y_test)"
   ]
  },
  {
   "cell_type": "code",
   "execution_count": 8,
   "metadata": {},
   "outputs": [],
   "source": [
    "class_weights = class_weight.compute_class_weight('balanced',\n",
    "                                                 np.unique(df['emotion']),\n",
    "                                                 df['emotion'])"
   ]
  },
  {
   "cell_type": "code",
   "execution_count": 24,
   "metadata": {},
   "outputs": [
    {
     "name": "stdout",
     "output_type": "stream",
     "text": [
      "Model: \"sequential_3\"\n",
      "_________________________________________________________________\n",
      "Layer (type)                 Output Shape              Param #   \n",
      "=================================================================\n",
      "conv2d_13 (Conv2D)           (None, 48, 48, 32)        320       \n",
      "_________________________________________________________________\n",
      "conv2d_14 (Conv2D)           (None, 48, 48, 32)        9248      \n",
      "_________________________________________________________________\n",
      "max_pooling2d_7 (MaxPooling2 (None, 24, 24, 32)        0         \n",
      "_________________________________________________________________\n",
      "conv2d_15 (Conv2D)           (None, 22, 22, 64)        18496     \n",
      "_________________________________________________________________\n",
      "conv2d_16 (Conv2D)           (None, 20, 20, 64)        36928     \n",
      "_________________________________________________________________\n",
      "max_pooling2d_8 (MaxPooling2 (None, 10, 10, 64)        0         \n",
      "_________________________________________________________________\n",
      "dropout_9 (Dropout)          (None, 10, 10, 64)        0         \n",
      "_________________________________________________________________\n",
      "conv2d_17 (Conv2D)           (None, 8, 8, 128)         73856     \n",
      "_________________________________________________________________\n",
      "conv2d_18 (Conv2D)           (None, 6, 6, 128)         147584    \n",
      "_________________________________________________________________\n",
      "max_pooling2d_9 (MaxPooling2 (None, 3, 3, 128)         0         \n",
      "_________________________________________________________________\n",
      "dropout_10 (Dropout)         (None, 3, 3, 128)         0         \n",
      "_________________________________________________________________\n",
      "flatten_3 (Flatten)          (None, 1152)              0         \n",
      "_________________________________________________________________\n",
      "dense_9 (Dense)              (None, 4096)              4722688   \n",
      "_________________________________________________________________\n",
      "dense_10 (Dense)             (None, 1024)              4195328   \n",
      "_________________________________________________________________\n",
      "dropout_11 (Dropout)         (None, 1024)              0         \n",
      "_________________________________________________________________\n",
      "dense_11 (Dense)             (None, 512)               524800    \n",
      "_________________________________________________________________\n",
      "dropout_12 (Dropout)         (None, 512)               0         \n",
      "_________________________________________________________________\n",
      "dense_12 (Dense)             (None, 7)                 3591      \n",
      "=================================================================\n",
      "Total params: 9,732,839\n",
      "Trainable params: 9,732,839\n",
      "Non-trainable params: 0\n",
      "_________________________________________________________________\n"
     ]
    }
   ],
   "source": [
    "model = Sequential()\n",
    "model.add(Conv2D(32,(3,3),padding='same',input_shape=(48,48,1),activation='relu'))\n",
    "model.add(Conv2D(32,(3,3),padding='same',activation='relu'))\n",
    "model.add(MaxPooling2D())\n",
    "model.add(Conv2D(64,(3,3),activation='relu'))\n",
    "model.add(Conv2D(64,(3,3),activation='relu'))\n",
    "model.add(MaxPooling2D())\n",
    "model.add(Dropout(0.4))\n",
    "model.add(Conv2D(128,(3,3),activation='relu'))\n",
    "model.add(Conv2D(128,(3,3),activation='relu'))\n",
    "model.add(MaxPooling2D())\n",
    "model.add(Dropout(0.25))\n",
    "model.add(Flatten())\n",
    "model.add(Dense(4096,activation='relu'))\n",
    "model.add(Dense(1024,activation='relu'))\n",
    "model.add(Dropout(0.9))\n",
    "model.add(Dense(512,activation='relu'))\n",
    "model.add(Dropout(0.5))\n",
    "model.add(Dense(len(emotions_list),activation='softmax'))\n",
    "\n",
    "model.compile(optimizer=Adam(0.0001),loss=categorical_crossentropy,metrics=['acc'])\n",
    "model.summary()"
   ]
  },
  {
   "cell_type": "code",
   "execution_count": 10,
   "metadata": {},
   "outputs": [],
   "source": [
    "early_stopping = EarlyStopping(patience=10,restore_best_weights=True)"
   ]
  },
  {
   "cell_type": "code",
   "execution_count": 25,
   "metadata": {},
   "outputs": [
    {
     "name": "stdout",
     "output_type": "stream",
     "text": [
      "Epoch 1/100\n",
      "1346/1345 [==============================] - 107s 80ms/step - loss: 1.8357 - acc: 0.2395 - val_loss: 1.8072 - val_acc: 0.2497\n",
      "Epoch 2/100\n",
      "1346/1345 [==============================] - 107s 80ms/step - loss: 1.8091 - acc: 0.2489 - val_loss: 1.7773 - val_acc: 0.2522\n",
      "Epoch 3/100\n",
      "1346/1345 [==============================] - 107s 80ms/step - loss: 1.7615 - acc: 0.2736 - val_loss: 1.6695 - val_acc: 0.3199\n",
      "Epoch 4/100\n",
      "1346/1345 [==============================] - 107s 80ms/step - loss: 1.6740 - acc: 0.3194 - val_loss: 1.5241 - val_acc: 0.3888\n",
      "Epoch 5/100\n",
      "1346/1345 [==============================] - 106s 79ms/step - loss: 1.5911 - acc: 0.3642 - val_loss: 1.4344 - val_acc: 0.4363\n",
      "Epoch 6/100\n",
      "1346/1345 [==============================] - 107s 79ms/step - loss: 1.5280 - acc: 0.4031 - val_loss: 1.3539 - val_acc: 0.4757\n",
      "Epoch 7/100\n",
      "1346/1345 [==============================] - 106s 79ms/step - loss: 1.4761 - acc: 0.4269 - val_loss: 1.3203 - val_acc: 0.4881\n",
      "Epoch 8/100\n",
      "1346/1345 [==============================] - 106s 79ms/step - loss: 1.4418 - acc: 0.4404 - val_loss: 1.2829 - val_acc: 0.5024\n",
      "Epoch 9/100\n",
      "1346/1345 [==============================] - 106s 79ms/step - loss: 1.4103 - acc: 0.4567 - val_loss: 1.2559 - val_acc: 0.5179\n",
      "Epoch 10/100\n",
      "1346/1345 [==============================] - 106s 79ms/step - loss: 1.3901 - acc: 0.4655 - val_loss: 1.2297 - val_acc: 0.5266\n",
      "Epoch 11/100\n",
      "1346/1345 [==============================] - 106s 79ms/step - loss: 1.3634 - acc: 0.4792 - val_loss: 1.2144 - val_acc: 0.5249\n",
      "Epoch 12/100\n",
      "1346/1345 [==============================] - 107s 80ms/step - loss: 1.3478 - acc: 0.4867 - val_loss: 1.2111 - val_acc: 0.5358\n",
      "Epoch 13/100\n",
      "1346/1345 [==============================] - 107s 80ms/step - loss: 1.3248 - acc: 0.4944 - val_loss: 1.2241 - val_acc: 0.5226\n",
      "Epoch 14/100\n",
      "1346/1345 [==============================] - 106s 79ms/step - loss: 1.3115 - acc: 0.4990 - val_loss: 1.1673 - val_acc: 0.5434\n",
      "Epoch 15/100\n",
      "1346/1345 [==============================] - 106s 79ms/step - loss: 1.2932 - acc: 0.5099 - val_loss: 1.1723 - val_acc: 0.5406\n",
      "Epoch 16/100\n",
      "1346/1345 [==============================] - 106s 79ms/step - loss: 1.2800 - acc: 0.5132 - val_loss: 1.1519 - val_acc: 0.5611\n",
      "Epoch 17/100\n",
      "1346/1345 [==============================] - 106s 79ms/step - loss: 1.2705 - acc: 0.5166 - val_loss: 1.1372 - val_acc: 0.5527\n",
      "Epoch 18/100\n",
      "1346/1345 [==============================] - 106s 78ms/step - loss: 1.2641 - acc: 0.5215 - val_loss: 1.1499 - val_acc: 0.5614\n",
      "Epoch 19/100\n",
      "1346/1345 [==============================] - 106s 79ms/step - loss: 1.2469 - acc: 0.5311 - val_loss: 1.1559 - val_acc: 0.5561\n",
      "Epoch 20/100\n",
      "1346/1345 [==============================] - 108s 80ms/step - loss: 1.2404 - acc: 0.5321 - val_loss: 1.1896 - val_acc: 0.5462\n",
      "Epoch 21/100\n",
      "1346/1345 [==============================] - 108s 80ms/step - loss: 1.2224 - acc: 0.5411 - val_loss: 1.1007 - val_acc: 0.5828\n",
      "Epoch 22/100\n",
      "1346/1345 [==============================] - 107s 79ms/step - loss: 1.2178 - acc: 0.5398 - val_loss: 1.1344 - val_acc: 0.5665\n",
      "Epoch 23/100\n",
      "1346/1345 [==============================] - 108s 80ms/step - loss: 1.2100 - acc: 0.5457 - val_loss: 1.1087 - val_acc: 0.5656\n",
      "Epoch 24/100\n",
      "1346/1345 [==============================] - 108s 80ms/step - loss: 1.1955 - acc: 0.5500 - val_loss: 1.0838 - val_acc: 0.5943\n",
      "Epoch 25/100\n",
      "1346/1345 [==============================] - 107s 80ms/step - loss: 1.1900 - acc: 0.5507 - val_loss: 1.0936 - val_acc: 0.5727\n",
      "Epoch 26/100\n",
      "1346/1345 [==============================] - 107s 80ms/step - loss: 1.1858 - acc: 0.5562 - val_loss: 1.0816 - val_acc: 0.5895\n",
      "Epoch 27/100\n",
      "1346/1345 [==============================] - 106s 79ms/step - loss: 1.1769 - acc: 0.5595 - val_loss: 1.0727 - val_acc: 0.5884\n",
      "Epoch 28/100\n",
      "1346/1345 [==============================] - 108s 81ms/step - loss: 1.1725 - acc: 0.5606 - val_loss: 1.0863 - val_acc: 0.5935\n",
      "Epoch 29/100\n",
      "1346/1345 [==============================] - 108s 80ms/step - loss: 1.1621 - acc: 0.5627 - val_loss: 1.0520 - val_acc: 0.6011\n",
      "Epoch 30/100\n",
      "1346/1345 [==============================] - 107s 79ms/step - loss: 1.1590 - acc: 0.5662 - val_loss: 1.0702 - val_acc: 0.5893\n",
      "Epoch 31/100\n",
      "1346/1345 [==============================] - 107s 80ms/step - loss: 1.1501 - acc: 0.5675 - val_loss: 1.0462 - val_acc: 0.6067\n",
      "Epoch 32/100\n",
      "1346/1345 [==============================] - 107s 79ms/step - loss: 1.1412 - acc: 0.5740 - val_loss: 1.0629 - val_acc: 0.6053\n",
      "Epoch 33/100\n",
      "1346/1345 [==============================] - 108s 80ms/step - loss: 1.1338 - acc: 0.5742 - val_loss: 1.0363 - val_acc: 0.6084\n",
      "Epoch 34/100\n",
      "1346/1345 [==============================] - 108s 80ms/step - loss: 1.1364 - acc: 0.5768 - val_loss: 1.0543 - val_acc: 0.5949\n",
      "Epoch 35/100\n",
      "1346/1345 [==============================] - 107s 80ms/step - loss: 1.1293 - acc: 0.5752 - val_loss: 1.0371 - val_acc: 0.6078\n",
      "Epoch 36/100\n",
      "1346/1345 [==============================] - 107s 80ms/step - loss: 1.1237 - acc: 0.5793 - val_loss: 1.0280 - val_acc: 0.6064\n",
      "Epoch 37/100\n",
      "1346/1345 [==============================] - 108s 80ms/step - loss: 1.1178 - acc: 0.5841 - val_loss: 1.0395 - val_acc: 0.6126\n",
      "Epoch 38/100\n",
      "1346/1345 [==============================] - 108s 80ms/step - loss: 1.1143 - acc: 0.5851 - val_loss: 1.0706 - val_acc: 0.5938\n",
      "Epoch 39/100\n",
      "1346/1345 [==============================] - 108s 80ms/step - loss: 1.1098 - acc: 0.5845 - val_loss: 1.0381 - val_acc: 0.6089\n",
      "Epoch 40/100\n",
      "1346/1345 [==============================] - 108s 80ms/step - loss: 1.1026 - acc: 0.5883 - val_loss: 1.0253 - val_acc: 0.6025\n",
      "Epoch 41/100\n",
      "1346/1345 [==============================] - 108s 80ms/step - loss: 1.1036 - acc: 0.5889 - val_loss: 1.0356 - val_acc: 0.6154\n",
      "Epoch 42/100\n",
      "1346/1345 [==============================] - 107s 79ms/step - loss: 1.1001 - acc: 0.5881 - val_loss: 1.0279 - val_acc: 0.6092\n",
      "Epoch 43/100\n",
      "1346/1345 [==============================] - 108s 80ms/step - loss: 1.0887 - acc: 0.5922 - val_loss: 1.0156 - val_acc: 0.6185\n",
      "Epoch 44/100\n",
      "1346/1345 [==============================] - 107s 80ms/step - loss: 1.0840 - acc: 0.5961 - val_loss: 1.0126 - val_acc: 0.6101\n",
      "Epoch 45/100\n",
      "1346/1345 [==============================] - 108s 80ms/step - loss: 1.0790 - acc: 0.5940 - val_loss: 1.0273 - val_acc: 0.6118\n",
      "Epoch 46/100\n",
      "1346/1345 [==============================] - 108s 80ms/step - loss: 1.0750 - acc: 0.5983 - val_loss: 0.9878 - val_acc: 0.6236\n",
      "Epoch 47/100\n",
      "1346/1345 [==============================] - 107s 79ms/step - loss: 1.0817 - acc: 0.5974 - val_loss: 0.9999 - val_acc: 0.6252\n",
      "Epoch 48/100\n",
      "1346/1345 [==============================] - 107s 80ms/step - loss: 1.0695 - acc: 0.6033 - val_loss: 1.0029 - val_acc: 0.6222\n",
      "Epoch 49/100\n",
      "1346/1345 [==============================] - 108s 80ms/step - loss: 1.0666 - acc: 0.6008 - val_loss: 0.9936 - val_acc: 0.6252\n",
      "Epoch 50/100\n",
      "1346/1345 [==============================] - 108s 81ms/step - loss: 1.0662 - acc: 0.6010 - val_loss: 0.9906 - val_acc: 0.6300\n",
      "Epoch 51/100\n",
      "1346/1345 [==============================] - 108s 80ms/step - loss: 1.0581 - acc: 0.6046 - val_loss: 0.9970 - val_acc: 0.6193\n"
     ]
    }
   ],
   "source": [
    "history = model.fit_generator(TRAIN_ITER,\n",
    "                    steps_per_epoch=(TRAIN_ITER.n//TRAIN_ITER.batch_size)*1.5,\n",
    "                    validation_data=VALID_ITER,\n",
    "                    validation_steps=VALID_ITER.n//VALID_ITER.batch_size,\n",
    "                    epochs = 100,\n",
    "                    class_weight = class_weights,\n",
    "                    callbacks=[early_stopping])"
   ]
  },
  {
   "cell_type": "code",
   "execution_count": 26,
   "metadata": {},
   "outputs": [
    {
     "data": {
      "text/plain": [
       "Text(0.5,1,'Accuracy')"
      ]
     },
     "execution_count": 26,
     "metadata": {},
     "output_type": "execute_result"
    },
    {
     "data": {
      "image/png": "[encoded data removed]",
      "text/plain": [
       "<Figure size 432x288 with 1 Axes>"
      ]
     },
     "metadata": {},
     "output_type": "display_data"
    }
   ],
   "source": [
    "plt.plot(history.history['acc'],label='training_Accuracy')\n",
    "plt.plot(history.history['val_acc'],label='validation_Accuracy')\n",
    "plt.legend()\n",
    "plt.xlabel('Epochs')\n",
    "plt.ylabel('Accuracy')\n",
    "plt.title(\"Accuracy\")"
   ]
  },
  {
   "cell_type": "code",
   "execution_count": 27,
   "metadata": {},
   "outputs": [
    {
     "data": {
      "text/plain": [
       "Text(0.5,1,'Loss')"
      ]
     },
     "execution_count": 27,
     "metadata": {},
     "output_type": "execute_result"
    },
    {
     "data": {
      "image/png": "[encoded data removed]",
      "text/plain": [
       "<Figure size 432x288 with 1 Axes>"
      ]
     },
     "metadata": {},
     "output_type": "display_data"
    }
   ],
   "source": [
    "plt.plot(history.history['loss'],label='training_loss')\n",
    "plt.plot(history.history['val_loss'],label='validation_loss')\n",
    "plt.legend()\n",
    "plt.xlabel('Epochs')\n",
    "plt.ylabel('Loss')\n",
    "plt.title(\"Loss\")"
   ]
  },
  {
   "cell_type": "code",
   "execution_count": 28,
   "metadata": {},
   "outputs": [
    {
     "data": {
      "text/plain": [
       "[0.9570529879999546, 0.6425188074838687]"
      ]
     },
     "execution_count": 28,
     "metadata": {},
     "output_type": "execute_result"
    }
   ],
   "source": [
    "model.evaluate_generator(TEST_ITER)"
   ]
  },
  {
   "cell_type": "code",
   "execution_count": 29,
   "metadata": {},
   "outputs": [],
   "source": [
    "model.save('emotion_detection_Acc_64_onTest.h5')"
   ]
  },
  {
   "cell_type": "code",
   "execution_count": null,
   "metadata": {},
   "outputs": [],
   "source": []
  }
 ],
 "metadata": {
  "kernelspec": {
   "display_name": "Python 3",
   "language": "python",
   "name": "python3"
  },
  "language_info": {
   "codemirror_mode": {
    "name": "ipython",
    "version": 3
   },
   "file_extension": ".py",
   "mimetype": "text/x-python",
   "name": "python",
   "nbconvert_exporter": "python",
   "pygments_lexer": "ipython3",
   "version": "3.6.5"
  }
 },
 "nbformat": 4,
 "nbformat_minor": 2
}
